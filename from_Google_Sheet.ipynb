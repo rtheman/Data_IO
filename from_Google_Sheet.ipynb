{
  "nbformat": 4,
  "nbformat_minor": 0,
  "metadata": {
    "colab": {
      "name": "from_Google_Sheet.ipynb",
      "provenance": [],
      "collapsed_sections": [],
      "toc_visible": true,
      "authorship_tag": "ABX9TyOu1HtUwCkNwHteSTiEJ3Rb",
      "include_colab_link": true
    },
    "kernelspec": {
      "name": "python3",
      "display_name": "Python 3"
    }
  },
  "cells": [
    {
      "cell_type": "markdown",
      "metadata": {
        "id": "view-in-github",
        "colab_type": "text"
      },
      "source": [
        "<a href=\"https://colab.research.google.com/github/rtheman/Data_IO/blob/master/from_Google_Sheet.ipynb\" target=\"_parent\"><img src=\"https://colab.research.google.com/assets/colab-badge.svg\" alt=\"Open In Colab\"/></a>"
      ]
    },
    {
      "cell_type": "markdown",
      "metadata": {
        "id": "Fx46nOX4faJE",
        "colab_type": "text"
      },
      "source": [
        "# Objective\n",
        "\n",
        "This notebook provide receipes for loading/extracting data into this Juypter Notebook (Google Colab), in this case, from **Google Sheet**.\n",
        "\n",
        "This notebook uese the open-source [`gspread`](https://github.com/burnash/gspread) library for interacting with Google Sheets.\n",
        "\n",
        "Additional examples are availabe at the [`gspread` GitHub page](https://github.com/burnash/gspread#more-examples).\n",
        "\n",
        "presented this to Robert W. and KPMG team on Fri, 10Jul'2020."
      ]
    },
    {
      "cell_type": "markdown",
      "metadata": {
        "id": "gK9ACe7gfswn",
        "colab_type": "text"
      },
      "source": [
        "# Init. settings and libraries\n",
        "\n",
        "First, install the package using `pip`."
      ]
    },
    {
      "cell_type": "code",
      "metadata": {
        "id": "d_0YcdPZfYdT",
        "colab_type": "code",
        "colab": {}
      },
      "source": [
        "!pip install --upgrade --quiet gspread"
      ],
      "execution_count": 1,
      "outputs": []
    },
    {
      "cell_type": "markdown",
      "metadata": {
        "id": "Zr1srqtVg0AN",
        "colab_type": "text"
      },
      "source": [
        "Import the library, authenticate, and create the interface to Sheets."
      ]
    },
    {
      "cell_type": "code",
      "metadata": {
        "id": "UN-SJTMig0T2",
        "colab_type": "code",
        "colab": {}
      },
      "source": [
        "from google.colab import auth\n",
        "auth.authenticate_user()\n",
        "\n",
        "import gspread\n",
        "from oauth2client.client import GoogleCredentials\n",
        "\n",
        "gc = gspread.authorize(GoogleCredentials.get_application_default())"
      ],
      "execution_count": 2,
      "outputs": []
    },
    {
      "cell_type": "markdown",
      "metadata": {
        "id": "hlFqEYfbhqEq",
        "colab_type": "text"
      },
      "source": [
        "# 1.) Create a new sheet with data from Python"
      ]
    },
    {
      "cell_type": "code",
      "metadata": {
        "id": "hNz5dpsjg25B",
        "colab_type": "code",
        "colab": {}
      },
      "source": [
        "# Create a new workbook in Google Sheet\n",
        "sh = gc.create('My cool spreadsheet')"
      ],
      "execution_count": 3,
      "outputs": []
    },
    {
      "cell_type": "code",
      "metadata": {
        "id": "2uN0fl42sQ2p",
        "colab_type": "code",
        "colab": {}
      },
      "source": [
        "# Create a new worksheet\n",
        "worksheet = sh.add_worksheet(title=\"A worksheet\", rows=\"78\", cols=\"20\")"
      ],
      "execution_count": 4,
      "outputs": []
    },
    {
      "cell_type": "markdown",
      "metadata": {
        "id": "WgMTqWeviRkx",
        "colab_type": "text"
      },
      "source": [
        "After executing the cell above, you will see a new spreadsheet named 'My cool spreadsheet' at [https://sheets.google.com](https://sheets.google.com/).\n",
        "\n",
        "Open our new sheet and add some random data.\n",
        "\n",
        "We will use `gspread_pandas` library.  Ref https://gspread-pandas.readthedocs.io/en/latest/getting_started.html#example"
      ]
    },
    {
      "cell_type": "markdown",
      "metadata": {
        "id": "q24kBPdQp3le",
        "colab_type": "text"
      },
      "source": [
        "# 2.) Download data from Internet, then persist as dataframe."
      ]
    },
    {
      "cell_type": "code",
      "metadata": {
        "id": "WJSl10eKx_Rd",
        "colab_type": "code",
        "colab": {}
      },
      "source": [
        "import pandas as pd"
      ],
      "execution_count": 5,
      "outputs": []
    },
    {
      "cell_type": "code",
      "metadata": {
        "id": "8M3SddPrkmJN",
        "colab_type": "code",
        "colab": {}
      },
      "source": [
        "file_name = \"http://stats.idre.ucla.edu/stat/data/binary.csv\"\n",
        "\n",
        "df = pd.read_csv(file_name, header=0, index_col=0)"
      ],
      "execution_count": 6,
      "outputs": []
    },
    {
      "cell_type": "code",
      "metadata": {
        "id": "eAefshw5yC9p",
        "colab_type": "code",
        "colab": {
          "base_uri": "https://localhost:8080/",
          "height": 420
        },
        "outputId": "65fc0d7d-ed82-41e3-eac7-a618389cbc16"
      },
      "source": [
        "df"
      ],
      "execution_count": 7,
      "outputs": [
        {
          "output_type": "execute_result",
          "data": {
            "text/html": [
              "<div>\n",
              "<style scoped>\n",
              "    .dataframe tbody tr th:only-of-type {\n",
              "        vertical-align: middle;\n",
              "    }\n",
              "\n",
              "    .dataframe tbody tr th {\n",
              "        vertical-align: top;\n",
              "    }\n",
              "\n",
              "    .dataframe thead th {\n",
              "        text-align: right;\n",
              "    }\n",
              "</style>\n",
              "<table border=\"1\" class=\"dataframe\">\n",
              "  <thead>\n",
              "    <tr style=\"text-align: right;\">\n",
              "      <th></th>\n",
              "      <th>gre</th>\n",
              "      <th>gpa</th>\n",
              "      <th>rank</th>\n",
              "    </tr>\n",
              "    <tr>\n",
              "      <th>admit</th>\n",
              "      <th></th>\n",
              "      <th></th>\n",
              "      <th></th>\n",
              "    </tr>\n",
              "  </thead>\n",
              "  <tbody>\n",
              "    <tr>\n",
              "      <th>0</th>\n",
              "      <td>380</td>\n",
              "      <td>3.61</td>\n",
              "      <td>3</td>\n",
              "    </tr>\n",
              "    <tr>\n",
              "      <th>1</th>\n",
              "      <td>660</td>\n",
              "      <td>3.67</td>\n",
              "      <td>3</td>\n",
              "    </tr>\n",
              "    <tr>\n",
              "      <th>1</th>\n",
              "      <td>800</td>\n",
              "      <td>4.00</td>\n",
              "      <td>1</td>\n",
              "    </tr>\n",
              "    <tr>\n",
              "      <th>1</th>\n",
              "      <td>640</td>\n",
              "      <td>3.19</td>\n",
              "      <td>4</td>\n",
              "    </tr>\n",
              "    <tr>\n",
              "      <th>0</th>\n",
              "      <td>520</td>\n",
              "      <td>2.93</td>\n",
              "      <td>4</td>\n",
              "    </tr>\n",
              "    <tr>\n",
              "      <th>...</th>\n",
              "      <td>...</td>\n",
              "      <td>...</td>\n",
              "      <td>...</td>\n",
              "    </tr>\n",
              "    <tr>\n",
              "      <th>0</th>\n",
              "      <td>620</td>\n",
              "      <td>4.00</td>\n",
              "      <td>2</td>\n",
              "    </tr>\n",
              "    <tr>\n",
              "      <th>0</th>\n",
              "      <td>560</td>\n",
              "      <td>3.04</td>\n",
              "      <td>3</td>\n",
              "    </tr>\n",
              "    <tr>\n",
              "      <th>0</th>\n",
              "      <td>460</td>\n",
              "      <td>2.63</td>\n",
              "      <td>2</td>\n",
              "    </tr>\n",
              "    <tr>\n",
              "      <th>0</th>\n",
              "      <td>700</td>\n",
              "      <td>3.65</td>\n",
              "      <td>2</td>\n",
              "    </tr>\n",
              "    <tr>\n",
              "      <th>0</th>\n",
              "      <td>600</td>\n",
              "      <td>3.89</td>\n",
              "      <td>3</td>\n",
              "    </tr>\n",
              "  </tbody>\n",
              "</table>\n",
              "<p>400 rows × 3 columns</p>\n",
              "</div>"
            ],
            "text/plain": [
              "       gre   gpa  rank\n",
              "admit                 \n",
              "0      380  3.61     3\n",
              "1      660  3.67     3\n",
              "1      800  4.00     1\n",
              "1      640  3.19     4\n",
              "0      520  2.93     4\n",
              "...    ...   ...   ...\n",
              "0      620  4.00     2\n",
              "0      560  3.04     3\n",
              "0      460  2.63     2\n",
              "0      700  3.65     2\n",
              "0      600  3.89     3\n",
              "\n",
              "[400 rows x 3 columns]"
            ]
          },
          "metadata": {
            "tags": []
          },
          "execution_count": 7
        }
      ]
    },
    {
      "cell_type": "markdown",
      "metadata": {
        "id": "n9wgHXPEyp-9",
        "colab_type": "text"
      },
      "source": [
        "# 3.) Write data (dataframe) to Google Sheet"
      ]
    },
    {
      "cell_type": "code",
      "metadata": {
        "id": "UbbtDSQrqq5l",
        "colab_type": "code",
        "colab": {
          "base_uri": "https://localhost:8080/",
          "height": 98
        },
        "outputId": "4996d2f8-71ab-40aa-f50d-35dffa46cd0a"
      },
      "source": [
        "worksheet.update([df.columns.values.tolist()] + df.values.tolist())"
      ],
      "execution_count": 8,
      "outputs": [
        {
          "output_type": "execute_result",
          "data": {
            "text/plain": [
              "{'spreadsheetId': '1fUfmiS6qXP78zZd6Ux6NOSp0AENKCsT8SqBeK1aAKxs',\n",
              " 'updatedCells': 1203,\n",
              " 'updatedColumns': 3,\n",
              " 'updatedRange': \"'A worksheet'!A1:C401\",\n",
              " 'updatedRows': 401}"
            ]
          },
          "metadata": {
            "tags": []
          },
          "execution_count": 8
        }
      ]
    },
    {
      "cell_type": "code",
      "metadata": {
        "id": "aNuEFh_Er1EF",
        "colab_type": "code",
        "colab": {}
      },
      "source": [
        ""
      ],
      "execution_count": null,
      "outputs": []
    }
  ]
}
